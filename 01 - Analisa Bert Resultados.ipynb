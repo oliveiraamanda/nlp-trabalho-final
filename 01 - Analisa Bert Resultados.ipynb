{
 "cells": [
  {
   "cell_type": "code",
   "execution_count": 1,
   "id": "b395b53d-283a-4238-8d37-3b71cd0d9610",
   "metadata": {},
   "outputs": [],
   "source": [
    "from sklearn.metrics import confusion_matrix, classification_report\n",
    "import seaborn as sns\n",
    "import matplotlib.pyplot as plt\n",
    "import pandas as pd\n",
    "\n",
    "pd.set_option('display.max_colwidth', 1)"
   ]
  },
  {
   "cell_type": "code",
   "execution_count": 2,
   "id": "c21d69d0-fc82-4f48-8516-6aae937a0cda",
   "metadata": {},
   "outputs": [],
   "source": [
    "bert = pd.read_csv('results_bert_new.csv')"
   ]
  },
  {
   "cell_type": "code",
   "execution_count": 3,
   "id": "caeee421-f0cb-4ece-bca5-fd4d5be40322",
   "metadata": {},
   "outputs": [
    {
     "data": {
      "text/html": [
       "<div>\n",
       "<style scoped>\n",
       "    .dataframe tbody tr th:only-of-type {\n",
       "        vertical-align: middle;\n",
       "    }\n",
       "\n",
       "    .dataframe tbody tr th {\n",
       "        vertical-align: top;\n",
       "    }\n",
       "\n",
       "    .dataframe thead th {\n",
       "        text-align: right;\n",
       "    }\n",
       "</style>\n",
       "<table border=\"1\" class=\"dataframe\">\n",
       "  <thead>\n",
       "    <tr style=\"text-align: right;\">\n",
       "      <th></th>\n",
       "      <th>text</th>\n",
       "      <th>labels</th>\n",
       "      <th>predictions</th>\n",
       "      <th>probabilities</th>\n",
       "    </tr>\n",
       "  </thead>\n",
       "  <tbody>\n",
       "    <tr>\n",
       "      <th>0</th>\n",
       "      <td>Aquele momento que o gato preto volta pra não cruzar o seu caminho</td>\n",
       "      <td>ironia</td>\n",
       "      <td>ironia</td>\n",
       "      <td>0.999999</td>\n",
       "    </tr>\n",
       "    <tr>\n",
       "      <th>1</th>\n",
       "      <td>Marcelo Oliveira pode estar poupando Matheus Sales para encarar o Santos, de Lucas Lima.</td>\n",
       "      <td>ironia</td>\n",
       "      <td>ironia</td>\n",
       "      <td>0.999999</td>\n",
       "    </tr>\n",
       "    <tr>\n",
       "      <th>2</th>\n",
       "      <td>São Paulo caindo de pé como um bom perdedor.</td>\n",
       "      <td>ironia</td>\n",
       "      <td>ironia</td>\n",
       "      <td>0.999999</td>\n",
       "    </tr>\n",
       "    <tr>\n",
       "      <th>3</th>\n",
       "      <td>claro que foi....</td>\n",
       "      <td>ironia</td>\n",
       "      <td>ironia</td>\n",
       "      <td>0.999999</td>\n",
       "    </tr>\n",
       "    <tr>\n",
       "      <th>4</th>\n",
       "      <td>ciúme comigo é na base da .</td>\n",
       "      <td>ironia</td>\n",
       "      <td>ironia</td>\n",
       "      <td>0.999999</td>\n",
       "    </tr>\n",
       "    <tr>\n",
       "      <th>...</th>\n",
       "      <td>...</td>\n",
       "      <td>...</td>\n",
       "      <td>...</td>\n",
       "      <td>...</td>\n",
       "    </tr>\n",
       "    <tr>\n",
       "      <th>1494</th>\n",
       "      <td>mesmo nível ué..e acho q ficou subentendido o  né? :P</td>\n",
       "      <td>ironia</td>\n",
       "      <td>n_ironia</td>\n",
       "      <td>0.274367</td>\n",
       "    </tr>\n",
       "    <tr>\n",
       "      <th>1495</th>\n",
       "      <td>hahahaha pois é.</td>\n",
       "      <td>ironia</td>\n",
       "      <td>n_ironia</td>\n",
       "      <td>0.345948</td>\n",
       "    </tr>\n",
       "    <tr>\n",
       "      <th>1496</th>\n",
       "      <td>DICA INCRÍVEL pra ECONOMIZAR com CELULAR, INTERNET, TV e FIXO!  economizar economia finanças financas</td>\n",
       "      <td>n_ironia</td>\n",
       "      <td>ironia</td>\n",
       "      <td>0.531779</td>\n",
       "    </tr>\n",
       "    <tr>\n",
       "      <th>1497</th>\n",
       "      <td>Que cara de pau, velho! Fala sério! &gt;&gt; 6 motivos para contribuir com o 'Zebeléo'</td>\n",
       "      <td>ironia</td>\n",
       "      <td>n_ironia</td>\n",
       "      <td>0.325981</td>\n",
       "    </tr>\n",
       "    <tr>\n",
       "      <th>1498</th>\n",
       "      <td>Boletim Macro do IBRE antecipa resultado do PIB:    Economia</td>\n",
       "      <td>n_ironia</td>\n",
       "      <td>ironia</td>\n",
       "      <td>0.655491</td>\n",
       "    </tr>\n",
       "  </tbody>\n",
       "</table>\n",
       "<p>1499 rows × 4 columns</p>\n",
       "</div>"
      ],
      "text/plain": [
       "                                                                                                        text  \\\n",
       "0     Aquele momento que o gato preto volta pra não cruzar o seu caminho                                       \n",
       "1     Marcelo Oliveira pode estar poupando Matheus Sales para encarar o Santos, de Lucas Lima.                 \n",
       "2     São Paulo caindo de pé como um bom perdedor.                                                             \n",
       "3     claro que foi....                                                                                        \n",
       "4     ciúme comigo é na base da .                                                                              \n",
       "...                           ...                                                                              \n",
       "1494    mesmo nível ué..e acho q ficou subentendido o  né? :P                                                  \n",
       "1495   hahahaha pois é.                                                                                        \n",
       "1496   DICA INCRÍVEL pra ECONOMIZAR com CELULAR, INTERNET, TV e FIXO!  economizar economia finanças financas   \n",
       "1497  Que cara de pau, velho! Fala sério! >> 6 motivos para contribuir com o 'Zebeléo'                         \n",
       "1498  Boletim Macro do IBRE antecipa resultado do PIB:    Economia                                             \n",
       "\n",
       "        labels predictions  probabilities  \n",
       "0     ironia    ironia      0.999999       \n",
       "1     ironia    ironia      0.999999       \n",
       "2     ironia    ironia      0.999999       \n",
       "3     ironia    ironia      0.999999       \n",
       "4     ironia    ironia      0.999999       \n",
       "...      ...       ...           ...       \n",
       "1494  ironia    n_ironia    0.274367       \n",
       "1495  ironia    n_ironia    0.345948       \n",
       "1496  n_ironia  ironia      0.531779       \n",
       "1497  ironia    n_ironia    0.325981       \n",
       "1498  n_ironia  ironia      0.655491       \n",
       "\n",
       "[1499 rows x 4 columns]"
      ]
     },
     "execution_count": 3,
     "metadata": {},
     "output_type": "execute_result"
    }
   ],
   "source": [
    "bert"
   ]
  },
  {
   "cell_type": "code",
   "execution_count": 4,
   "id": "beb11594-2452-4517-9e37-8522c5a9f927",
   "metadata": {},
   "outputs": [
    {
     "name": "stdout",
     "output_type": "stream",
     "text": [
      "              precision    recall  f1-score   support\n",
      "\n",
      "      ironia       0.93      0.90      0.91      1244\n",
      "    n_ironia       0.57      0.67      0.62       255\n",
      "\n",
      "    accuracy                           0.86      1499\n",
      "   macro avg       0.75      0.78      0.77      1499\n",
      "weighted avg       0.87      0.86      0.86      1499\n",
      "\n"
     ]
    }
   ],
   "source": [
    "print(classification_report(bert['labels'], bert['predictions']))"
   ]
  },
  {
   "cell_type": "code",
   "execution_count": 5,
   "id": "553914c1-3c59-47e7-92da-f3752a44f70e",
   "metadata": {},
   "outputs": [
    {
     "name": "stdout",
     "output_type": "stream",
     "text": [
      "              precision    recall  f1-score   support\n",
      "\n",
      "      ironia       0.93      0.90      0.91      1244\n",
      "    n_ironia       0.57      0.67      0.62       255\n",
      "\n",
      "    accuracy                           0.86      1499\n",
      "   macro avg       0.75      0.78      0.77      1499\n",
      "weighted avg       0.87      0.86      0.86      1499\n",
      "\n"
     ]
    },
    {
     "data": {
      "image/png": "[encoded data removed]",
      "text/plain": [
       "<Figure size 1000x700 with 2 Axes>"
      ]
     },
     "metadata": {},
     "output_type": "display_data"
    }
   ],
   "source": [
    "labels = bert['labels']\n",
    "predictions = bert['predictions']\n",
    "\n",
    "print(classification_report(labels, predictions))\n",
    "\n",
    "cm = confusion_matrix(labels, predictions)\n",
    "\n",
    "cm_df = pd.DataFrame(cm, index=sorted(set(labels)), columns=sorted(set(labels)))\n",
    "\n",
    "plt.figure(figsize=(10, 7))\n",
    "sns.heatmap(cm_df, annot=True, fmt='d', cmap='Blues')\n",
    "plt.xlabel('Predicted')\n",
    "plt.ylabel('True')\n",
    "plt.title('Confusion Matrix')\n",
    "plt.savefig('confusao_bert.png')\n",
    "plt.show()\n"
   ]
  },
  {
   "cell_type": "code",
   "execution_count": null,
   "id": "05303956-326b-49cc-84c6-df5e8272b36a",
   "metadata": {},
   "outputs": [],
   "source": []
  }
 ],
 "metadata": {
  "kernelspec": {
   "display_name": "Python 3.10",
   "language": "python",
   "name": "python3.10"
  },
  "language_info": {
   "codemirror_mode": {
    "name": "ipython",
    "version": 3
   },
   "file_extension": ".py",
   "mimetype": "text/x-python",
   "name": "python",
   "nbconvert_exporter": "python",
   "pygments_lexer": "ipython3",
   "version": "3.10.12"
  }
 },
 "nbformat": 4,
 "nbformat_minor": 5
}
