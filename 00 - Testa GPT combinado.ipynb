{
 "cells": [
  {
   "cell_type": "code",
   "execution_count": 1,
   "id": "fd777a02-2827-4fe9-962a-188f8466f0e6",
   "metadata": {},
   "outputs": [],
   "source": [
    "import os\n",
    "import openai\n",
    "from openai import OpenAI\n",
    "import pandas as pd\n",
    "from tqdm.contrib.concurrent import thread_map\n",
    "import time\n",
    "from multiprocessing import Pool\n",
    "from tqdm import tqdm\n",
    "from tqdm import tqdm_notebook\n",
    "import numpy as np\n",
    "import string\n",
    "from bs4 import BeautifulSoup\n",
    "import unicodedata\n",
    "import re\n",
    "from sklearn.metrics import classification_report\n",
    "\n",
    "pd.set_option('display.max_colwidth', 1)"
   ]
  },
  {
   "cell_type": "code",
   "execution_count": null,
   "id": "51cd1b4e-c4df-4a17-b99c-19ad172ce04a",
   "metadata": {},
   "outputs": [],
   "source": [
    "client = OpenAI(api_key=\"\")"
   ]
  },
  {
   "cell_type": "code",
   "execution_count": null,
   "id": "4b2dcaa7-4bba-4a30-8b2c-94993369639b",
   "metadata": {},
   "outputs": [],
   "source": [
    "def classifica_com_gpt(text, probabilidade):\n",
    "    MODEL=\"gpt-4-turbo\"\n",
    "    \n",
    "    completion = client.chat.completions.create(\n",
    "      model=MODEL,\n",
    "      messages=[\n",
    "        {\"role\": \"system\", \"content\": \"Você é um classificador de ironias.\"},\n",
    "          \n",
    "        {\"role\": \"user\", \"content\": \"Analise o texto abaixo, que veio do contexto de redes sociais. Responda apenas com 'ironia' se o texto conter ironia ou n ironia se o texto não conter ironia. A probabilidade após o texto foi gerada por outro modelo de classificação, você pode usar ela quando julgar necessário.\"  + text + \" \" + probabilidade}\n",
    "      ]\n",
    "    )\n",
    "    return completion.choices[0].message.content\n",
    "\n"
   ]
  },
  {
   "cell_type": "code",
   "execution_count": null,
   "id": "1ec4ebd3-2644-4cd7-b287-66d6a5607d7d",
   "metadata": {},
   "outputs": [],
   "source": [
    "data = pd.read_csv('results_bert_new.csv')"
   ]
  },
  {
   "cell_type": "code",
   "execution_count": null,
   "id": "bee9abf0-8348-4dcc-b1d7-bd40b1372594",
   "metadata": {},
   "outputs": [],
   "source": [
    "len(data)"
   ]
  },
  {
   "cell_type": "code",
   "execution_count": null,
   "id": "6bed6f0b-3558-40fa-a372-d63a8542d379",
   "metadata": {},
   "outputs": [],
   "source": [
    "data"
   ]
  },
  {
   "cell_type": "code",
   "execution_count": null,
   "id": "682f1aa5-f670-454f-ab32-679b26106da6",
   "metadata": {},
   "outputs": [],
   "source": [
    "data['pred_comb'] = thread_map(classifica_com_gpt, data['text'], data['probabilities'])"
   ]
  },
  {
   "cell_type": "code",
   "execution_count": null,
   "id": "b4a81256-7710-4c60-ba70-38afb82f4f64",
   "metadata": {},
   "outputs": [],
   "source": [
    "data.to_csv('teste_ironia_gpt4_turbo_comb.csv', index=False)"
   ]
  },
  {
   "cell_type": "code",
   "execution_count": null,
   "id": "c1ade927-68c8-4062-82a5-57ad61964de4",
   "metadata": {},
   "outputs": [],
   "source": []
  },
  {
   "cell_type": "code",
   "execution_count": null,
   "id": "210928c3-1731-4f4c-a907-4c6767aa9981",
   "metadata": {},
   "outputs": [],
   "source": []
  }
 ],
 "metadata": {
  "kernelspec": {
   "display_name": "Python 3.10",
   "language": "python",
   "name": "python3.10"
  },
  "language_info": {
   "codemirror_mode": {
    "name": "ipython",
    "version": 3
   },
   "file_extension": ".py",
   "mimetype": "text/x-python",
   "name": "python",
   "nbconvert_exporter": "python",
   "pygments_lexer": "ipython3",
   "version": "3.10.12"
  }
 },
 "nbformat": 4,
 "nbformat_minor": 5
}
