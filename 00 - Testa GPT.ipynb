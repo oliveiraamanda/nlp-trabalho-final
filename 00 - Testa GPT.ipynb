{
 "cells": [
  {
   "cell_type": "code",
   "execution_count": 24,
   "id": "fd777a02-2827-4fe9-962a-188f8466f0e6",
   "metadata": {},
   "outputs": [],
   "source": [
    "import os\n",
    "import openai\n",
    "from openai import OpenAI\n",
    "import pandas as pd\n",
    "from tqdm.contrib.concurrent import thread_map\n",
    "import time\n",
    "from multiprocessing import Pool\n",
    "from tqdm import tqdm\n",
    "from tqdm import tqdm_notebook\n",
    "import numpy as np\n",
    "import string\n",
    "from bs4 import BeautifulSoup\n",
    "import unicodedata\n",
    "import re\n",
    "from sklearn.metrics import classification_report\n",
    "\n",
    "pd.set_option('display.max_colwidth', 1)"
   ]
  },
  {
   "cell_type": "code",
   "execution_count": 25,
   "id": "51cd1b4e-c4df-4a17-b99c-19ad172ce04a",
   "metadata": {},
   "outputs": [],
   "source": [
    "client = OpenAI(api_key=\"\")"
   ]
  },
  {
   "cell_type": "code",
   "execution_count": 71,
   "id": "4b2dcaa7-4bba-4a30-8b2c-94993369639b",
   "metadata": {},
   "outputs": [],
   "source": [
    "def classifica_com_gpt(text):\n",
    "    MODEL=\"gpt-4-turbo\"\n",
    "    \n",
    "    completion = client.chat.completions.create(\n",
    "      model=MODEL,\n",
    "      messages=[\n",
    "        {\"role\": \"system\", \"content\": \"Você é um classificador de ironias, analise o texto abaixo, que veio do contexto de redes sociais. Responda apenas com 'ironia' se o texto conter ironia ou 'n_ironia' se o texto não conter ironia\"},\n",
    "        {\"role\": \"user\", \"content\": text}\n",
    "      ]\n",
    "    )\n",
    "    return completion.choices[0].message.content"
   ]
  },
  {
   "cell_type": "code",
   "execution_count": 72,
   "id": "869c8754-8f9e-4d15-b7bc-ef0b8f106b79",
   "metadata": {},
   "outputs": [
    {
     "data": {
      "text/plain": [
       "'n_ironia'"
      ]
     },
     "execution_count": 72,
     "metadata": {},
     "output_type": "execute_result"
    }
   ],
   "source": [
    "classifica_com_gpt('oi')"
   ]
  },
  {
   "cell_type": "code",
   "execution_count": 73,
   "id": "1ec4ebd3-2644-4cd7-b287-66d6a5607d7d",
   "metadata": {},
   "outputs": [],
   "source": [
    "data = pd.read_csv('data_ironia/teste_ironias_reduzido.csv', sep='\\t', lineterminator='\\n')"
   ]
  },
  {
   "cell_type": "code",
   "execution_count": 74,
   "id": "bee9abf0-8348-4dcc-b1d7-bd40b1372594",
   "metadata": {},
   "outputs": [
    {
     "data": {
      "text/plain": [
       "1500"
      ]
     },
     "execution_count": 74,
     "metadata": {},
     "output_type": "execute_result"
    }
   ],
   "source": [
    "len(data)"
   ]
  },
  {
   "cell_type": "code",
   "execution_count": 75,
   "id": "285be7fb-9917-4e96-b6e9-49a49c8e9930",
   "metadata": {},
   "outputs": [],
   "source": [
    "data = data[['text', 'prediction']]"
   ]
  },
  {
   "cell_type": "code",
   "execution_count": 76,
   "id": "2a4134da-8ecd-4590-ae75-d393edf6c531",
   "metadata": {},
   "outputs": [
    {
     "data": {
      "text/html": [
       "<div>\n",
       "<style scoped>\n",
       "    .dataframe tbody tr th:only-of-type {\n",
       "        vertical-align: middle;\n",
       "    }\n",
       "\n",
       "    .dataframe tbody tr th {\n",
       "        vertical-align: top;\n",
       "    }\n",
       "\n",
       "    .dataframe thead th {\n",
       "        text-align: right;\n",
       "    }\n",
       "</style>\n",
       "<table border=\"1\" class=\"dataframe\">\n",
       "  <thead>\n",
       "    <tr style=\"text-align: right;\">\n",
       "      <th></th>\n",
       "      <th>text</th>\n",
       "      <th>prediction</th>\n",
       "    </tr>\n",
       "  </thead>\n",
       "  <tbody>\n",
       "    <tr>\n",
       "      <th>0</th>\n",
       "      <td>Aquele momento que o gato preto volta pra não cruzar o seu caminho</td>\n",
       "      <td>1</td>\n",
       "    </tr>\n",
       "    <tr>\n",
       "      <th>1</th>\n",
       "      <td>Marcelo Oliveira pode estar poupando Matheus Sales para encarar o Santos, de Lucas Lima.</td>\n",
       "      <td>1</td>\n",
       "    </tr>\n",
       "  </tbody>\n",
       "</table>\n",
       "</div>"
      ],
      "text/plain": [
       "                                                                                        text  \\\n",
       "0  Aquele momento que o gato preto volta pra não cruzar o seu caminho                          \n",
       "1  Marcelo Oliveira pode estar poupando Matheus Sales para encarar o Santos, de Lucas Lima.    \n",
       "\n",
       "   prediction  \n",
       "0  1           \n",
       "1  1           "
      ]
     },
     "execution_count": 76,
     "metadata": {},
     "output_type": "execute_result"
    }
   ],
   "source": [
    "data.head(2)"
   ]
  },
  {
   "cell_type": "code",
   "execution_count": 77,
   "id": "795b71c5-945e-429a-a47b-8b98822a005b",
   "metadata": {},
   "outputs": [
    {
     "name": "stderr",
     "output_type": "stream",
     "text": [
      "Classificando textos: 100%|█████████████████| 1500/1500 [19:05<00:00,  1.31it/s]\n"
     ]
    }
   ],
   "source": [
    "tqdm.pandas(desc=\"Classificando textos\")\n",
    "data['pred_gpt4_turbo'] = data['text'].progress_apply(classifica_com_gpt)"
   ]
  },
  {
   "cell_type": "code",
   "execution_count": 78,
   "id": "788d71a4-4234-436c-a772-7a7f69813145",
   "metadata": {},
   "outputs": [
    {
     "data": {
      "text/html": [
       "<div>\n",
       "<style scoped>\n",
       "    .dataframe tbody tr th:only-of-type {\n",
       "        vertical-align: middle;\n",
       "    }\n",
       "\n",
       "    .dataframe tbody tr th {\n",
       "        vertical-align: top;\n",
       "    }\n",
       "\n",
       "    .dataframe thead th {\n",
       "        text-align: right;\n",
       "    }\n",
       "</style>\n",
       "<table border=\"1\" class=\"dataframe\">\n",
       "  <thead>\n",
       "    <tr style=\"text-align: right;\">\n",
       "      <th></th>\n",
       "      <th>text</th>\n",
       "      <th>prediction</th>\n",
       "      <th>pred_gpt4_turbo</th>\n",
       "    </tr>\n",
       "  </thead>\n",
       "  <tbody>\n",
       "    <tr>\n",
       "      <th>0</th>\n",
       "      <td>Aquele momento que o gato preto volta pra não cruzar o seu caminho</td>\n",
       "      <td>1</td>\n",
       "      <td>ironia</td>\n",
       "    </tr>\n",
       "    <tr>\n",
       "      <th>1</th>\n",
       "      <td>Marcelo Oliveira pode estar poupando Matheus Sales para encarar o Santos, de Lucas Lima.</td>\n",
       "      <td>1</td>\n",
       "      <td>n_ironia</td>\n",
       "    </tr>\n",
       "    <tr>\n",
       "      <th>2</th>\n",
       "      <td>ECONOMIAALERTANÃO! QUEIRAM ASSISTIR O MAIOR ESCOAMENTO FINANCEIRO MUNDIALQUEREMOS! UM BRASIL PARA TODOS!DiretasJÁ!</td>\n",
       "      <td>0</td>\n",
       "      <td>ironia</td>\n",
       "    </tr>\n",
       "    <tr>\n",
       "      <th>3</th>\n",
       "      <td>São Paulo caindo de pé como um bom perdedor.</td>\n",
       "      <td>1</td>\n",
       "      <td>ironia</td>\n",
       "    </tr>\n",
       "    <tr>\n",
       "      <th>4</th>\n",
       "      <td>claro que foi....</td>\n",
       "      <td>1</td>\n",
       "      <td>ironia</td>\n",
       "    </tr>\n",
       "    <tr>\n",
       "      <th>...</th>\n",
       "      <td>...</td>\n",
       "      <td>...</td>\n",
       "      <td>...</td>\n",
       "    </tr>\n",
       "    <tr>\n",
       "      <th>1495</th>\n",
       "      <td>interessante perceber como o catedrático vai dar uma entrevista precisamente ao jornal de quem o   tanto se queixa</td>\n",
       "      <td>1</td>\n",
       "      <td>ironia</td>\n",
       "    </tr>\n",
       "    <tr>\n",
       "      <th>1496</th>\n",
       "      <td>So notícia boa! Uhuuu</td>\n",
       "      <td>1</td>\n",
       "      <td>ironia</td>\n",
       "    </tr>\n",
       "    <tr>\n",
       "      <th>1497</th>\n",
       "      <td>AGORA VAI! Realmente bater em jogador resolve tudo, vasco não cai mais!</td>\n",
       "      <td>1</td>\n",
       "      <td>ironia</td>\n",
       "    </tr>\n",
       "    <tr>\n",
       "      <th>1498</th>\n",
       "      <td>Economia.Presidente do Senado admite possibilidade de acelerar reforma trabalhista</td>\n",
       "      <td>0</td>\n",
       "      <td>n_ironia</td>\n",
       "    </tr>\n",
       "    <tr>\n",
       "      <th>1499</th>\n",
       "      <td>Assistindo a Copa do Nordeste e por ironia o Esporte Interativo está transmitindo o jogo cujo nome de um dos times se chama GLOBO.</td>\n",
       "      <td>1</td>\n",
       "      <td>ironia</td>\n",
       "    </tr>\n",
       "  </tbody>\n",
       "</table>\n",
       "<p>1500 rows × 3 columns</p>\n",
       "</div>"
      ],
      "text/plain": [
       "                                                                                                                                     text  \\\n",
       "0     Aquele momento que o gato preto volta pra não cruzar o seu caminho                                                                    \n",
       "1     Marcelo Oliveira pode estar poupando Matheus Sales para encarar o Santos, de Lucas Lima.                                              \n",
       "2     ECONOMIAALERTANÃO! QUEIRAM ASSISTIR O MAIOR ESCOAMENTO FINANCEIRO MUNDIALQUEREMOS! UM BRASIL PARA TODOS!DiretasJÁ!                    \n",
       "3     São Paulo caindo de pé como um bom perdedor.                                                                                          \n",
       "4     claro que foi....                                                                                                                     \n",
       "...                 ...                                                                                                                     \n",
       "1495  interessante perceber como o catedrático vai dar uma entrevista precisamente ao jornal de quem o   tanto se queixa                    \n",
       "1496  So notícia boa! Uhuuu                                                                                                                 \n",
       "1497  AGORA VAI! Realmente bater em jogador resolve tudo, vasco não cai mais!                                                               \n",
       "1498  Economia.Presidente do Senado admite possibilidade de acelerar reforma trabalhista                                                    \n",
       "1499  Assistindo a Copa do Nordeste e por ironia o Esporte Interativo está transmitindo o jogo cujo nome de um dos times se chama GLOBO.    \n",
       "\n",
       "      prediction pred_gpt4_turbo  \n",
       "0     1           ironia          \n",
       "1     1           n_ironia        \n",
       "2     0           ironia          \n",
       "3     1           ironia          \n",
       "4     1           ironia          \n",
       "...  ..              ...          \n",
       "1495  1           ironia          \n",
       "1496  1           ironia          \n",
       "1497  1           ironia          \n",
       "1498  0           n_ironia        \n",
       "1499  1           ironia          \n",
       "\n",
       "[1500 rows x 3 columns]"
      ]
     },
     "execution_count": 78,
     "metadata": {},
     "output_type": "execute_result"
    }
   ],
   "source": [
    "data"
   ]
  },
  {
   "cell_type": "code",
   "execution_count": 79,
   "id": "b4a81256-7710-4c60-ba70-38afb82f4f64",
   "metadata": {},
   "outputs": [],
   "source": [
    "data.to_csv('teste_ironia_gpt4_turbo.csv', index=False)"
   ]
  },
  {
   "cell_type": "code",
   "execution_count": null,
   "id": "c1ade927-68c8-4062-82a5-57ad61964de4",
   "metadata": {},
   "outputs": [],
   "source": []
  }
 ],
 "metadata": {
  "kernelspec": {
   "display_name": "Python 3.10",
   "language": "python",
   "name": "python3.10"
  },
  "language_info": {
   "codemirror_mode": {
    "name": "ipython",
    "version": 3
   },
   "file_extension": ".py",
   "mimetype": "text/x-python",
   "name": "python",
   "nbconvert_exporter": "python",
   "pygments_lexer": "ipython3",
   "version": "3.10.12"
  }
 },
 "nbformat": 4,
 "nbformat_minor": 5
}
