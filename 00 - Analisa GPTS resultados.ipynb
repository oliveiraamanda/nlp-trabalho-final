{
 "cells": [
  {
   "cell_type": "code",
   "execution_count": 4,
   "id": "96192d37-4f08-4c1c-8836-09c7e04252e6",
   "metadata": {},
   "outputs": [],
   "source": [
    "import pandas as pd\n",
    "from sklearn.metrics import classification_report\n",
    "pd.set_option('display.max_colwidth', 1)"
   ]
  },
  {
   "cell_type": "markdown",
   "id": "e41eab78-0f77-472b-b2a6-2f9e82e32c63",
   "metadata": {},
   "source": [
    "### GPT4-Turbo"
   ]
  },
  {
   "cell_type": "code",
   "execution_count": 2,
   "id": "b718e04c-d671-4e81-bb4e-3bcae522125f",
   "metadata": {},
   "outputs": [],
   "source": [
    "turbo = pd.read_csv('results/teste_ironia_gpt4_turbo.csv')"
   ]
  },
  {
   "cell_type": "code",
   "execution_count": 3,
   "id": "3a4d8664-3bf7-4fc8-84e7-6b1dbae53c5a",
   "metadata": {},
   "outputs": [
    {
     "data": {
      "text/html": [
       "<div>\n",
       "<style scoped>\n",
       "    .dataframe tbody tr th:only-of-type {\n",
       "        vertical-align: middle;\n",
       "    }\n",
       "\n",
       "    .dataframe tbody tr th {\n",
       "        vertical-align: top;\n",
       "    }\n",
       "\n",
       "    .dataframe thead th {\n",
       "        text-align: right;\n",
       "    }\n",
       "</style>\n",
       "<table border=\"1\" class=\"dataframe\">\n",
       "  <thead>\n",
       "    <tr style=\"text-align: right;\">\n",
       "      <th></th>\n",
       "      <th>text</th>\n",
       "      <th>prediction</th>\n",
       "      <th>pred_gpt4_turbo</th>\n",
       "    </tr>\n",
       "  </thead>\n",
       "  <tbody>\n",
       "    <tr>\n",
       "      <th>0</th>\n",
       "      <td>Aquele momento que o gato preto volta pra não cruzar o seu caminho</td>\n",
       "      <td>1.0</td>\n",
       "      <td>ironia</td>\n",
       "    </tr>\n",
       "    <tr>\n",
       "      <th>1</th>\n",
       "      <td>Marcelo Oliveira pode estar poupando Matheus Sales para encarar o Santos, de Lucas Lima.</td>\n",
       "      <td>1.0</td>\n",
       "      <td>n_ironia</td>\n",
       "    </tr>\n",
       "    <tr>\n",
       "      <th>2</th>\n",
       "      <td>ECONOMIAALERTANÃO! QUEIRAM ASSISTIR O MAIOR ESCOAMENTO FINANCEIRO MUNDIALQUEREMOS! UM BRASIL PARA TODOS!DiretasJÁ!</td>\n",
       "      <td>0.0</td>\n",
       "      <td>ironia</td>\n",
       "    </tr>\n",
       "    <tr>\n",
       "      <th>3</th>\n",
       "      <td>São Paulo caindo de pé como um bom perdedor.</td>\n",
       "      <td>1.0</td>\n",
       "      <td>ironia</td>\n",
       "    </tr>\n",
       "    <tr>\n",
       "      <th>4</th>\n",
       "      <td>claro que foi....</td>\n",
       "      <td>1.0</td>\n",
       "      <td>ironia</td>\n",
       "    </tr>\n",
       "    <tr>\n",
       "      <th>...</th>\n",
       "      <td>...</td>\n",
       "      <td>...</td>\n",
       "      <td>...</td>\n",
       "    </tr>\n",
       "    <tr>\n",
       "      <th>1498</th>\n",
       "      <td>interessante perceber como o catedrático vai dar uma entrevista precisamente ao jornal de quem o   tanto se queixa</td>\n",
       "      <td>1.0</td>\n",
       "      <td>ironia</td>\n",
       "    </tr>\n",
       "    <tr>\n",
       "      <th>1499</th>\n",
       "      <td>So notícia boa! Uhuuu</td>\n",
       "      <td>1.0</td>\n",
       "      <td>ironia</td>\n",
       "    </tr>\n",
       "    <tr>\n",
       "      <th>1500</th>\n",
       "      <td>AGORA VAI! Realmente bater em jogador resolve tudo, vasco não cai mais!</td>\n",
       "      <td>1.0</td>\n",
       "      <td>ironia</td>\n",
       "    </tr>\n",
       "    <tr>\n",
       "      <th>1501</th>\n",
       "      <td>Economia.Presidente do Senado admite possibilidade de acelerar reforma trabalhista</td>\n",
       "      <td>0.0</td>\n",
       "      <td>n_ironia</td>\n",
       "    </tr>\n",
       "    <tr>\n",
       "      <th>1502</th>\n",
       "      <td>Assistindo a Copa do Nordeste e por ironia o Esporte Interativo está transmitindo o jogo cujo nome de um dos times se chama GLOBO.</td>\n",
       "      <td>1.0</td>\n",
       "      <td>ironia</td>\n",
       "    </tr>\n",
       "  </tbody>\n",
       "</table>\n",
       "<p>1503 rows × 3 columns</p>\n",
       "</div>"
      ],
      "text/plain": [
       "                                                                                                                                     text  \\\n",
       "0     Aquele momento que o gato preto volta pra não cruzar o seu caminho                                                                    \n",
       "1     Marcelo Oliveira pode estar poupando Matheus Sales para encarar o Santos, de Lucas Lima.                                              \n",
       "2     ECONOMIAALERTANÃO! QUEIRAM ASSISTIR O MAIOR ESCOAMENTO FINANCEIRO MUNDIALQUEREMOS! UM BRASIL PARA TODOS!DiretasJÁ!                    \n",
       "3     São Paulo caindo de pé como um bom perdedor.                                                                                          \n",
       "4     claro que foi....                                                                                                                     \n",
       "...                 ...                                                                                                                     \n",
       "1498  interessante perceber como o catedrático vai dar uma entrevista precisamente ao jornal de quem o   tanto se queixa                    \n",
       "1499  So notícia boa! Uhuuu                                                                                                                 \n",
       "1500  AGORA VAI! Realmente bater em jogador resolve tudo, vasco não cai mais!                                                               \n",
       "1501  Economia.Presidente do Senado admite possibilidade de acelerar reforma trabalhista                                                    \n",
       "1502  Assistindo a Copa do Nordeste e por ironia o Esporte Interativo está transmitindo o jogo cujo nome de um dos times se chama GLOBO.    \n",
       "\n",
       "      prediction pred_gpt4_turbo  \n",
       "0     1.0         ironia          \n",
       "1     1.0         n_ironia        \n",
       "2     0.0         ironia          \n",
       "3     1.0         ironia          \n",
       "4     1.0         ironia          \n",
       "...   ...            ...          \n",
       "1498  1.0         ironia          \n",
       "1499  1.0         ironia          \n",
       "1500  1.0         ironia          \n",
       "1501  0.0         n_ironia        \n",
       "1502  1.0         ironia          \n",
       "\n",
       "[1503 rows x 3 columns]"
      ]
     },
     "execution_count": 3,
     "metadata": {},
     "output_type": "execute_result"
    }
   ],
   "source": [
    "turbo"
   ]
  },
  {
   "cell_type": "code",
   "execution_count": 5,
   "id": "87a3290e-7c8e-4424-8889-2c947dd16d9c",
   "metadata": {},
   "outputs": [
    {
     "name": "stderr",
     "output_type": "stream",
     "text": [
      "/tmp/ipykernel_46597/2528638097.py:1: SettingWithCopyWarning: \n",
      "A value is trying to be set on a copy of a slice from a DataFrame\n",
      "\n",
      "See the caveats in the documentation: https://pandas.pydata.org/pandas-docs/stable/user_guide/indexing.html#returning-a-view-versus-a-copy\n",
      "  turbo.prediction.loc[turbo.prediction==1.0]='ironia'\n"
     ]
    }
   ],
   "source": [
    "turbo.prediction.loc[turbo.prediction==1.0]='ironia'\n",
    "turbo.prediction.loc[turbo.prediction==0.0]='n_ironia'"
   ]
  },
  {
   "cell_type": "code",
   "execution_count": 6,
   "id": "64096465-1596-4887-9ca7-01ab5747f621",
   "metadata": {},
   "outputs": [
    {
     "data": {
      "text/html": [
       "<div>\n",
       "<style scoped>\n",
       "    .dataframe tbody tr th:only-of-type {\n",
       "        vertical-align: middle;\n",
       "    }\n",
       "\n",
       "    .dataframe tbody tr th {\n",
       "        vertical-align: top;\n",
       "    }\n",
       "\n",
       "    .dataframe thead th {\n",
       "        text-align: right;\n",
       "    }\n",
       "</style>\n",
       "<table border=\"1\" class=\"dataframe\">\n",
       "  <thead>\n",
       "    <tr style=\"text-align: right;\">\n",
       "      <th></th>\n",
       "      <th>text</th>\n",
       "      <th>prediction</th>\n",
       "      <th>pred_gpt4_turbo</th>\n",
       "    </tr>\n",
       "  </thead>\n",
       "  <tbody>\n",
       "    <tr>\n",
       "      <th>0</th>\n",
       "      <td>Aquele momento que o gato preto volta pra não cruzar o seu caminho</td>\n",
       "      <td>ironia</td>\n",
       "      <td>ironia</td>\n",
       "    </tr>\n",
       "    <tr>\n",
       "      <th>1</th>\n",
       "      <td>Marcelo Oliveira pode estar poupando Matheus Sales para encarar o Santos, de Lucas Lima.</td>\n",
       "      <td>ironia</td>\n",
       "      <td>n_ironia</td>\n",
       "    </tr>\n",
       "    <tr>\n",
       "      <th>2</th>\n",
       "      <td>ECONOMIAALERTANÃO! QUEIRAM ASSISTIR O MAIOR ESCOAMENTO FINANCEIRO MUNDIALQUEREMOS! UM BRASIL PARA TODOS!DiretasJÁ!</td>\n",
       "      <td>n_ironia</td>\n",
       "      <td>ironia</td>\n",
       "    </tr>\n",
       "    <tr>\n",
       "      <th>3</th>\n",
       "      <td>São Paulo caindo de pé como um bom perdedor.</td>\n",
       "      <td>ironia</td>\n",
       "      <td>ironia</td>\n",
       "    </tr>\n",
       "    <tr>\n",
       "      <th>4</th>\n",
       "      <td>claro que foi....</td>\n",
       "      <td>ironia</td>\n",
       "      <td>ironia</td>\n",
       "    </tr>\n",
       "    <tr>\n",
       "      <th>...</th>\n",
       "      <td>...</td>\n",
       "      <td>...</td>\n",
       "      <td>...</td>\n",
       "    </tr>\n",
       "    <tr>\n",
       "      <th>1498</th>\n",
       "      <td>interessante perceber como o catedrático vai dar uma entrevista precisamente ao jornal de quem o   tanto se queixa</td>\n",
       "      <td>ironia</td>\n",
       "      <td>ironia</td>\n",
       "    </tr>\n",
       "    <tr>\n",
       "      <th>1499</th>\n",
       "      <td>So notícia boa! Uhuuu</td>\n",
       "      <td>ironia</td>\n",
       "      <td>ironia</td>\n",
       "    </tr>\n",
       "    <tr>\n",
       "      <th>1500</th>\n",
       "      <td>AGORA VAI! Realmente bater em jogador resolve tudo, vasco não cai mais!</td>\n",
       "      <td>ironia</td>\n",
       "      <td>ironia</td>\n",
       "    </tr>\n",
       "    <tr>\n",
       "      <th>1501</th>\n",
       "      <td>Economia.Presidente do Senado admite possibilidade de acelerar reforma trabalhista</td>\n",
       "      <td>n_ironia</td>\n",
       "      <td>n_ironia</td>\n",
       "    </tr>\n",
       "    <tr>\n",
       "      <th>1502</th>\n",
       "      <td>Assistindo a Copa do Nordeste e por ironia o Esporte Interativo está transmitindo o jogo cujo nome de um dos times se chama GLOBO.</td>\n",
       "      <td>ironia</td>\n",
       "      <td>ironia</td>\n",
       "    </tr>\n",
       "  </tbody>\n",
       "</table>\n",
       "<p>1503 rows × 3 columns</p>\n",
       "</div>"
      ],
      "text/plain": [
       "                                                                                                                                     text  \\\n",
       "0     Aquele momento que o gato preto volta pra não cruzar o seu caminho                                                                    \n",
       "1     Marcelo Oliveira pode estar poupando Matheus Sales para encarar o Santos, de Lucas Lima.                                              \n",
       "2     ECONOMIAALERTANÃO! QUEIRAM ASSISTIR O MAIOR ESCOAMENTO FINANCEIRO MUNDIALQUEREMOS! UM BRASIL PARA TODOS!DiretasJÁ!                    \n",
       "3     São Paulo caindo de pé como um bom perdedor.                                                                                          \n",
       "4     claro que foi....                                                                                                                     \n",
       "...                 ...                                                                                                                     \n",
       "1498  interessante perceber como o catedrático vai dar uma entrevista precisamente ao jornal de quem o   tanto se queixa                    \n",
       "1499  So notícia boa! Uhuuu                                                                                                                 \n",
       "1500  AGORA VAI! Realmente bater em jogador resolve tudo, vasco não cai mais!                                                               \n",
       "1501  Economia.Presidente do Senado admite possibilidade de acelerar reforma trabalhista                                                    \n",
       "1502  Assistindo a Copa do Nordeste e por ironia o Esporte Interativo está transmitindo o jogo cujo nome de um dos times se chama GLOBO.    \n",
       "\n",
       "     prediction pred_gpt4_turbo  \n",
       "0     ironia     ironia          \n",
       "1     ironia     n_ironia        \n",
       "2     n_ironia   ironia          \n",
       "3     ironia     ironia          \n",
       "4     ironia     ironia          \n",
       "...      ...        ...          \n",
       "1498  ironia     ironia          \n",
       "1499  ironia     ironia          \n",
       "1500  ironia     ironia          \n",
       "1501  n_ironia   n_ironia        \n",
       "1502  ironia     ironia          \n",
       "\n",
       "[1503 rows x 3 columns]"
      ]
     },
     "execution_count": 6,
     "metadata": {},
     "output_type": "execute_result"
    }
   ],
   "source": [
    "turbo"
   ]
  },
  {
   "cell_type": "code",
   "execution_count": 8,
   "id": "42489fa4-9a5f-4a60-b2d8-e7c9c58bca7c",
   "metadata": {},
   "outputs": [],
   "source": [
    "turbo = turbo[~turbo.prediction.isna()].reset_index(drop=True)"
   ]
  },
  {
   "cell_type": "code",
   "execution_count": 9,
   "id": "e530a306-503a-45d4-aa6c-ea7077509794",
   "metadata": {},
   "outputs": [
    {
     "data": {
      "text/plain": [
       "1500"
      ]
     },
     "execution_count": 9,
     "metadata": {},
     "output_type": "execute_result"
    }
   ],
   "source": [
    "len(turbo)"
   ]
  },
  {
   "cell_type": "code",
   "execution_count": 11,
   "id": "7be3e7aa-5b25-48a8-a067-9103ff95d743",
   "metadata": {},
   "outputs": [],
   "source": [
    "turbo = turbo[~turbo.text.isna()].reset_index(drop=True)"
   ]
  },
  {
   "cell_type": "code",
   "execution_count": 14,
   "id": "3136ff6e-64d4-4d00-a519-e59463a0579f",
   "metadata": {},
   "outputs": [
    {
     "data": {
      "text/html": [
       "<div>\n",
       "<style scoped>\n",
       "    .dataframe tbody tr th:only-of-type {\n",
       "        vertical-align: middle;\n",
       "    }\n",
       "\n",
       "    .dataframe tbody tr th {\n",
       "        vertical-align: top;\n",
       "    }\n",
       "\n",
       "    .dataframe thead th {\n",
       "        text-align: right;\n",
       "    }\n",
       "</style>\n",
       "<table border=\"1\" class=\"dataframe\">\n",
       "  <thead>\n",
       "    <tr style=\"text-align: right;\">\n",
       "      <th></th>\n",
       "      <th>text</th>\n",
       "      <th>prediction</th>\n",
       "      <th>pred_gpt4_turbo</th>\n",
       "    </tr>\n",
       "  </thead>\n",
       "  <tbody>\n",
       "    <tr>\n",
       "      <th>0</th>\n",
       "      <td>Aquele momento que o gato preto volta pra não cruzar o seu caminho</td>\n",
       "      <td>ironia</td>\n",
       "      <td>ironia</td>\n",
       "    </tr>\n",
       "    <tr>\n",
       "      <th>1</th>\n",
       "      <td>Marcelo Oliveira pode estar poupando Matheus Sales para encarar o Santos, de Lucas Lima.</td>\n",
       "      <td>ironia</td>\n",
       "      <td>n_ironia</td>\n",
       "    </tr>\n",
       "    <tr>\n",
       "      <th>2</th>\n",
       "      <td>ECONOMIAALERTANÃO! QUEIRAM ASSISTIR O MAIOR ESCOAMENTO FINANCEIRO MUNDIALQUEREMOS! UM BRASIL PARA TODOS!DiretasJÁ!</td>\n",
       "      <td>n_ironia</td>\n",
       "      <td>ironia</td>\n",
       "    </tr>\n",
       "    <tr>\n",
       "      <th>3</th>\n",
       "      <td>São Paulo caindo de pé como um bom perdedor.</td>\n",
       "      <td>ironia</td>\n",
       "      <td>ironia</td>\n",
       "    </tr>\n",
       "    <tr>\n",
       "      <th>4</th>\n",
       "      <td>claro que foi....</td>\n",
       "      <td>ironia</td>\n",
       "      <td>ironia</td>\n",
       "    </tr>\n",
       "    <tr>\n",
       "      <th>...</th>\n",
       "      <td>...</td>\n",
       "      <td>...</td>\n",
       "      <td>...</td>\n",
       "    </tr>\n",
       "    <tr>\n",
       "      <th>1494</th>\n",
       "      <td>interessante perceber como o catedrático vai dar uma entrevista precisamente ao jornal de quem o   tanto se queixa</td>\n",
       "      <td>ironia</td>\n",
       "      <td>ironia</td>\n",
       "    </tr>\n",
       "    <tr>\n",
       "      <th>1495</th>\n",
       "      <td>So notícia boa! Uhuuu</td>\n",
       "      <td>ironia</td>\n",
       "      <td>ironia</td>\n",
       "    </tr>\n",
       "    <tr>\n",
       "      <th>1496</th>\n",
       "      <td>AGORA VAI! Realmente bater em jogador resolve tudo, vasco não cai mais!</td>\n",
       "      <td>ironia</td>\n",
       "      <td>ironia</td>\n",
       "    </tr>\n",
       "    <tr>\n",
       "      <th>1497</th>\n",
       "      <td>Economia.Presidente do Senado admite possibilidade de acelerar reforma trabalhista</td>\n",
       "      <td>n_ironia</td>\n",
       "      <td>n_ironia</td>\n",
       "    </tr>\n",
       "    <tr>\n",
       "      <th>1498</th>\n",
       "      <td>Assistindo a Copa do Nordeste e por ironia o Esporte Interativo está transmitindo o jogo cujo nome de um dos times se chama GLOBO.</td>\n",
       "      <td>ironia</td>\n",
       "      <td>ironia</td>\n",
       "    </tr>\n",
       "  </tbody>\n",
       "</table>\n",
       "<p>1499 rows × 3 columns</p>\n",
       "</div>"
      ],
      "text/plain": [
       "                                                                                                                                     text  \\\n",
       "0     Aquele momento que o gato preto volta pra não cruzar o seu caminho                                                                    \n",
       "1     Marcelo Oliveira pode estar poupando Matheus Sales para encarar o Santos, de Lucas Lima.                                              \n",
       "2     ECONOMIAALERTANÃO! QUEIRAM ASSISTIR O MAIOR ESCOAMENTO FINANCEIRO MUNDIALQUEREMOS! UM BRASIL PARA TODOS!DiretasJÁ!                    \n",
       "3     São Paulo caindo de pé como um bom perdedor.                                                                                          \n",
       "4     claro que foi....                                                                                                                     \n",
       "...                 ...                                                                                                                     \n",
       "1494  interessante perceber como o catedrático vai dar uma entrevista precisamente ao jornal de quem o   tanto se queixa                    \n",
       "1495  So notícia boa! Uhuuu                                                                                                                 \n",
       "1496  AGORA VAI! Realmente bater em jogador resolve tudo, vasco não cai mais!                                                               \n",
       "1497  Economia.Presidente do Senado admite possibilidade de acelerar reforma trabalhista                                                    \n",
       "1498  Assistindo a Copa do Nordeste e por ironia o Esporte Interativo está transmitindo o jogo cujo nome de um dos times se chama GLOBO.    \n",
       "\n",
       "     prediction pred_gpt4_turbo  \n",
       "0     ironia     ironia          \n",
       "1     ironia     n_ironia        \n",
       "2     n_ironia   ironia          \n",
       "3     ironia     ironia          \n",
       "4     ironia     ironia          \n",
       "...      ...        ...          \n",
       "1494  ironia     ironia          \n",
       "1495  ironia     ironia          \n",
       "1496  ironia     ironia          \n",
       "1497  n_ironia   n_ironia        \n",
       "1498  ironia     ironia          \n",
       "\n",
       "[1499 rows x 3 columns]"
      ]
     },
     "execution_count": 14,
     "metadata": {},
     "output_type": "execute_result"
    }
   ],
   "source": [
    "turbo"
   ]
  },
  {
   "cell_type": "code",
   "execution_count": 17,
   "id": "4a46967d-c67a-4352-92bd-7a94ab3efdc4",
   "metadata": {},
   "outputs": [
    {
     "name": "stderr",
     "output_type": "stream",
     "text": [
      "/tmp/ipykernel_46597/1714124673.py:1: FutureWarning: The default value of regex will change from True to False in a future version.\n",
      "  turbo.pred_gpt4_turbo = turbo.pred_gpt4_turbo.str.replace('ironia.', 'ironia')\n"
     ]
    }
   ],
   "source": [
    "turbo.pred_gpt4_turbo = turbo.pred_gpt4_turbo.str.replace('ironia.', 'ironia')"
   ]
  },
  {
   "cell_type": "code",
   "execution_count": 18,
   "id": "80c93ac6-2c87-4dfa-aa11-339efd7afe77",
   "metadata": {},
   "outputs": [
    {
     "name": "stdout",
     "output_type": "stream",
     "text": [
      "              precision    recall  f1-score   support\n",
      "\n",
      "      ironia       0.96      0.88      0.92      1244\n",
      "    n_ironia       0.58      0.80      0.67       255\n",
      "\n",
      "    accuracy                           0.87      1499\n",
      "   macro avg       0.77      0.84      0.79      1499\n",
      "weighted avg       0.89      0.87      0.88      1499\n",
      "\n"
     ]
    }
   ],
   "source": [
    "print(classification_report(turbo['prediction'], turbo['pred_gpt4_turbo']))"
   ]
  },
  {
   "cell_type": "code",
   "execution_count": null,
   "id": "e74b1b2a-8a07-4224-abec-144707b754da",
   "metadata": {},
   "outputs": [],
   "source": []
  },
  {
   "cell_type": "markdown",
   "id": "834d4168-dd11-4701-8c2f-b37abf0fdbb8",
   "metadata": {},
   "source": [
    "### GPT4-O"
   ]
  },
  {
   "cell_type": "code",
   "execution_count": 25,
   "id": "c7ed09fb-1a8f-4b93-bb06-2051c0affe63",
   "metadata": {},
   "outputs": [],
   "source": [
    "omni = pd.read_csv('results/teste_ironia_gpt4o.csv')"
   ]
  },
  {
   "cell_type": "code",
   "execution_count": 26,
   "id": "b9286eac-6797-4970-83e3-0f94d52c5d6d",
   "metadata": {},
   "outputs": [
    {
     "data": {
      "text/html": [
       "<div>\n",
       "<style scoped>\n",
       "    .dataframe tbody tr th:only-of-type {\n",
       "        vertical-align: middle;\n",
       "    }\n",
       "\n",
       "    .dataframe tbody tr th {\n",
       "        vertical-align: top;\n",
       "    }\n",
       "\n",
       "    .dataframe thead th {\n",
       "        text-align: right;\n",
       "    }\n",
       "</style>\n",
       "<table border=\"1\" class=\"dataframe\">\n",
       "  <thead>\n",
       "    <tr style=\"text-align: right;\">\n",
       "      <th></th>\n",
       "      <th>text</th>\n",
       "      <th>prediction</th>\n",
       "      <th>pred_gpt4o</th>\n",
       "    </tr>\n",
       "  </thead>\n",
       "  <tbody>\n",
       "    <tr>\n",
       "      <th>0</th>\n",
       "      <td>Aquele momento que o gato preto volta pra não cruzar o seu caminho</td>\n",
       "      <td>1.0</td>\n",
       "      <td>ironia</td>\n",
       "    </tr>\n",
       "    <tr>\n",
       "      <th>1</th>\n",
       "      <td>Marcelo Oliveira pode estar poupando Matheus Sales para encarar o Santos, de Lucas Lima.</td>\n",
       "      <td>1.0</td>\n",
       "      <td>n_ironia</td>\n",
       "    </tr>\n",
       "    <tr>\n",
       "      <th>2</th>\n",
       "      <td>ECONOMIAALERTANÃO! QUEIRAM ASSISTIR O MAIOR ESCOAMENTO FINANCEIRO MUNDIALQUEREMOS! UM BRASIL PARA TODOS!DiretasJÁ!</td>\n",
       "      <td>0.0</td>\n",
       "      <td>n_ironia</td>\n",
       "    </tr>\n",
       "    <tr>\n",
       "      <th>3</th>\n",
       "      <td>São Paulo caindo de pé como um bom perdedor.</td>\n",
       "      <td>1.0</td>\n",
       "      <td>ironia</td>\n",
       "    </tr>\n",
       "    <tr>\n",
       "      <th>4</th>\n",
       "      <td>claro que foi....</td>\n",
       "      <td>1.0</td>\n",
       "      <td>ironia</td>\n",
       "    </tr>\n",
       "    <tr>\n",
       "      <th>...</th>\n",
       "      <td>...</td>\n",
       "      <td>...</td>\n",
       "      <td>...</td>\n",
       "    </tr>\n",
       "    <tr>\n",
       "      <th>1498</th>\n",
       "      <td>interessante perceber como o catedrático vai dar uma entrevista precisamente ao jornal de quem o   tanto se queixa</td>\n",
       "      <td>1.0</td>\n",
       "      <td>ironia</td>\n",
       "    </tr>\n",
       "    <tr>\n",
       "      <th>1499</th>\n",
       "      <td>So notícia boa! Uhuuu</td>\n",
       "      <td>1.0</td>\n",
       "      <td>ironia</td>\n",
       "    </tr>\n",
       "    <tr>\n",
       "      <th>1500</th>\n",
       "      <td>AGORA VAI! Realmente bater em jogador resolve tudo, vasco não cai mais!</td>\n",
       "      <td>1.0</td>\n",
       "      <td>ironia</td>\n",
       "    </tr>\n",
       "    <tr>\n",
       "      <th>1501</th>\n",
       "      <td>Economia.Presidente do Senado admite possibilidade de acelerar reforma trabalhista</td>\n",
       "      <td>0.0</td>\n",
       "      <td>n_ironia</td>\n",
       "    </tr>\n",
       "    <tr>\n",
       "      <th>1502</th>\n",
       "      <td>Assistindo a Copa do Nordeste e por ironia o Esporte Interativo está transmitindo o jogo cujo nome de um dos times se chama GLOBO.</td>\n",
       "      <td>1.0</td>\n",
       "      <td>ironia</td>\n",
       "    </tr>\n",
       "  </tbody>\n",
       "</table>\n",
       "<p>1503 rows × 3 columns</p>\n",
       "</div>"
      ],
      "text/plain": [
       "                                                                                                                                     text  \\\n",
       "0     Aquele momento que o gato preto volta pra não cruzar o seu caminho                                                                    \n",
       "1     Marcelo Oliveira pode estar poupando Matheus Sales para encarar o Santos, de Lucas Lima.                                              \n",
       "2     ECONOMIAALERTANÃO! QUEIRAM ASSISTIR O MAIOR ESCOAMENTO FINANCEIRO MUNDIALQUEREMOS! UM BRASIL PARA TODOS!DiretasJÁ!                    \n",
       "3     São Paulo caindo de pé como um bom perdedor.                                                                                          \n",
       "4     claro que foi....                                                                                                                     \n",
       "...                 ...                                                                                                                     \n",
       "1498  interessante perceber como o catedrático vai dar uma entrevista precisamente ao jornal de quem o   tanto se queixa                    \n",
       "1499  So notícia boa! Uhuuu                                                                                                                 \n",
       "1500  AGORA VAI! Realmente bater em jogador resolve tudo, vasco não cai mais!                                                               \n",
       "1501  Economia.Presidente do Senado admite possibilidade de acelerar reforma trabalhista                                                    \n",
       "1502  Assistindo a Copa do Nordeste e por ironia o Esporte Interativo está transmitindo o jogo cujo nome de um dos times se chama GLOBO.    \n",
       "\n",
       "      prediction pred_gpt4o  \n",
       "0     1.0         ironia     \n",
       "1     1.0         n_ironia   \n",
       "2     0.0         n_ironia   \n",
       "3     1.0         ironia     \n",
       "4     1.0         ironia     \n",
       "...   ...            ...     \n",
       "1498  1.0         ironia     \n",
       "1499  1.0         ironia     \n",
       "1500  1.0         ironia     \n",
       "1501  0.0         n_ironia   \n",
       "1502  1.0         ironia     \n",
       "\n",
       "[1503 rows x 3 columns]"
      ]
     },
     "execution_count": 26,
     "metadata": {},
     "output_type": "execute_result"
    }
   ],
   "source": [
    "omni"
   ]
  },
  {
   "cell_type": "code",
   "execution_count": 27,
   "id": "442dcbff-559d-46f3-8860-adf02b63440c",
   "metadata": {},
   "outputs": [],
   "source": [
    "omni = omni[~omni.prediction.isna()].reset_index(drop=True)"
   ]
  },
  {
   "cell_type": "code",
   "execution_count": 28,
   "id": "12b18f64-75f0-4516-a15f-6f93c958929d",
   "metadata": {},
   "outputs": [
    {
     "data": {
      "text/plain": [
       "1500"
      ]
     },
     "execution_count": 28,
     "metadata": {},
     "output_type": "execute_result"
    }
   ],
   "source": [
    "len(omni)"
   ]
  },
  {
   "cell_type": "code",
   "execution_count": 30,
   "id": "c97a3285-a8eb-4e0d-b9ee-b493b166dbc9",
   "metadata": {},
   "outputs": [],
   "source": [
    "omni = omni[~omni.text.isna()].reset_index(drop=True)"
   ]
  },
  {
   "cell_type": "code",
   "execution_count": 31,
   "id": "bbc1fd19-e1ed-4d6e-bff5-1ad68904aec8",
   "metadata": {},
   "outputs": [
    {
     "data": {
      "text/plain": [
       "1499"
      ]
     },
     "execution_count": 31,
     "metadata": {},
     "output_type": "execute_result"
    }
   ],
   "source": [
    "len(omni)"
   ]
  },
  {
   "cell_type": "code",
   "execution_count": 34,
   "id": "c07f9284-e6db-42f4-8439-529761ced078",
   "metadata": {},
   "outputs": [
    {
     "data": {
      "text/plain": [
       "ironia        953\n",
       "n_ironia      543\n",
       "'n_ironia'    2  \n",
       "'ironia'      1  \n",
       "Name: pred_gpt4o, dtype: int64"
      ]
     },
     "execution_count": 34,
     "metadata": {},
     "output_type": "execute_result"
    }
   ],
   "source": [
    "omni.pred_gpt4o.value_counts()"
   ]
  },
  {
   "cell_type": "code",
   "execution_count": 33,
   "id": "246275cf-900e-4f7b-84bd-03e809ebe5df",
   "metadata": {},
   "outputs": [
    {
     "name": "stderr",
     "output_type": "stream",
     "text": [
      "/tmp/ipykernel_46597/2100459105.py:1: SettingWithCopyWarning: \n",
      "A value is trying to be set on a copy of a slice from a DataFrame\n",
      "\n",
      "See the caveats in the documentation: https://pandas.pydata.org/pandas-docs/stable/user_guide/indexing.html#returning-a-view-versus-a-copy\n",
      "  omni.pred_gpt4o.loc[omni.pred_gpt4o=='ironias']='ironia'\n"
     ]
    }
   ],
   "source": [
    "omni.pred_gpt4o.loc[omni.pred_gpt4o=='ironias']='ironia'"
   ]
  },
  {
   "cell_type": "code",
   "execution_count": 36,
   "id": "e1517a5e-126e-4a84-8825-ff64ff695a5c",
   "metadata": {},
   "outputs": [],
   "source": [
    "omni.pred_gpt4o = omni.pred_gpt4o.str.replace(\"'\", \"\")"
   ]
  },
  {
   "cell_type": "code",
   "execution_count": 37,
   "id": "cecd25d9-a9e4-4829-9045-40f6cde50574",
   "metadata": {},
   "outputs": [
    {
     "data": {
      "text/plain": [
       "ironia      954\n",
       "n_ironia    545\n",
       "Name: pred_gpt4o, dtype: int64"
      ]
     },
     "execution_count": 37,
     "metadata": {},
     "output_type": "execute_result"
    }
   ],
   "source": [
    "omni.pred_gpt4o.value_counts()"
   ]
  },
  {
   "cell_type": "code",
   "execution_count": 38,
   "id": "9dc1c03f-04dd-4ec1-9730-06be684ea43f",
   "metadata": {},
   "outputs": [
    {
     "name": "stderr",
     "output_type": "stream",
     "text": [
      "/tmp/ipykernel_46597/3281006480.py:1: SettingWithCopyWarning: \n",
      "A value is trying to be set on a copy of a slice from a DataFrame\n",
      "\n",
      "See the caveats in the documentation: https://pandas.pydata.org/pandas-docs/stable/user_guide/indexing.html#returning-a-view-versus-a-copy\n",
      "  omni.prediction.loc[omni.prediction==1.0]='ironia'\n"
     ]
    }
   ],
   "source": [
    "omni.prediction.loc[omni.prediction==1.0]='ironia'\n",
    "omni.prediction.loc[omni.prediction==0.0]='n_ironia'"
   ]
  },
  {
   "cell_type": "code",
   "execution_count": 39,
   "id": "e524468d-24c8-4949-a755-8d19a5841bec",
   "metadata": {},
   "outputs": [
    {
     "name": "stdout",
     "output_type": "stream",
     "text": [
      "              precision    recall  f1-score   support\n",
      "\n",
      "      ironia       0.98      0.75      0.85      1244\n",
      "    n_ironia       0.43      0.91      0.58       255\n",
      "\n",
      "    accuracy                           0.78      1499\n",
      "   macro avg       0.70      0.83      0.72      1499\n",
      "weighted avg       0.88      0.78      0.80      1499\n",
      "\n"
     ]
    }
   ],
   "source": [
    "print(classification_report(omni['prediction'], omni['pred_gpt4o']))"
   ]
  },
  {
   "cell_type": "code",
   "execution_count": null,
   "id": "09826f33-a737-417c-a1f5-9da5d576ad52",
   "metadata": {},
   "outputs": [],
   "source": []
  },
  {
   "cell_type": "markdown",
   "id": "2afa18b9-2756-46eb-b460-2ad31ef95dfe",
   "metadata": {},
   "source": [
    "### GPT40-MINI"
   ]
  },
  {
   "cell_type": "code",
   "execution_count": 40,
   "id": "901cb4d0-c94b-4128-802c-7a07109d7356",
   "metadata": {},
   "outputs": [],
   "source": [
    "mini = pd.read_csv('results/teste_ironia_gpt4o_mini.csv')"
   ]
  },
  {
   "cell_type": "code",
   "execution_count": 41,
   "id": "31825a40-96d1-43f1-939c-6e4b16d88b93",
   "metadata": {},
   "outputs": [
    {
     "data": {
      "text/html": [
       "<div>\n",
       "<style scoped>\n",
       "    .dataframe tbody tr th:only-of-type {\n",
       "        vertical-align: middle;\n",
       "    }\n",
       "\n",
       "    .dataframe tbody tr th {\n",
       "        vertical-align: top;\n",
       "    }\n",
       "\n",
       "    .dataframe thead th {\n",
       "        text-align: right;\n",
       "    }\n",
       "</style>\n",
       "<table border=\"1\" class=\"dataframe\">\n",
       "  <thead>\n",
       "    <tr style=\"text-align: right;\">\n",
       "      <th></th>\n",
       "      <th>text</th>\n",
       "      <th>prediction</th>\n",
       "      <th>pred_gpt4o_mini</th>\n",
       "    </tr>\n",
       "  </thead>\n",
       "  <tbody>\n",
       "    <tr>\n",
       "      <th>0</th>\n",
       "      <td>Aquele momento que o gato preto volta pra não cruzar o seu caminho</td>\n",
       "      <td>1.0</td>\n",
       "      <td>ironia</td>\n",
       "    </tr>\n",
       "    <tr>\n",
       "      <th>1</th>\n",
       "      <td>Marcelo Oliveira pode estar poupando Matheus Sales para encarar o Santos, de Lucas Lima.</td>\n",
       "      <td>1.0</td>\n",
       "      <td>n_ironia</td>\n",
       "    </tr>\n",
       "    <tr>\n",
       "      <th>2</th>\n",
       "      <td>ECONOMIAALERTANÃO! QUEIRAM ASSISTIR O MAIOR ESCOAMENTO FINANCEIRO MUNDIALQUEREMOS! UM BRASIL PARA TODOS!DiretasJÁ!</td>\n",
       "      <td>0.0</td>\n",
       "      <td>n_ironia</td>\n",
       "    </tr>\n",
       "    <tr>\n",
       "      <th>3</th>\n",
       "      <td>São Paulo caindo de pé como um bom perdedor.</td>\n",
       "      <td>1.0</td>\n",
       "      <td>ironia</td>\n",
       "    </tr>\n",
       "    <tr>\n",
       "      <th>4</th>\n",
       "      <td>claro que foi....</td>\n",
       "      <td>1.0</td>\n",
       "      <td>ironia</td>\n",
       "    </tr>\n",
       "    <tr>\n",
       "      <th>...</th>\n",
       "      <td>...</td>\n",
       "      <td>...</td>\n",
       "      <td>...</td>\n",
       "    </tr>\n",
       "    <tr>\n",
       "      <th>1498</th>\n",
       "      <td>interessante perceber como o catedrático vai dar uma entrevista precisamente ao jornal de quem o   tanto se queixa</td>\n",
       "      <td>1.0</td>\n",
       "      <td>ironia</td>\n",
       "    </tr>\n",
       "    <tr>\n",
       "      <th>1499</th>\n",
       "      <td>So notícia boa! Uhuuu</td>\n",
       "      <td>1.0</td>\n",
       "      <td>ironia</td>\n",
       "    </tr>\n",
       "    <tr>\n",
       "      <th>1500</th>\n",
       "      <td>AGORA VAI! Realmente bater em jogador resolve tudo, vasco não cai mais!</td>\n",
       "      <td>1.0</td>\n",
       "      <td>ironia</td>\n",
       "    </tr>\n",
       "    <tr>\n",
       "      <th>1501</th>\n",
       "      <td>Economia.Presidente do Senado admite possibilidade de acelerar reforma trabalhista</td>\n",
       "      <td>0.0</td>\n",
       "      <td>n_ironia</td>\n",
       "    </tr>\n",
       "    <tr>\n",
       "      <th>1502</th>\n",
       "      <td>Assistindo a Copa do Nordeste e por ironia o Esporte Interativo está transmitindo o jogo cujo nome de um dos times se chama GLOBO.</td>\n",
       "      <td>1.0</td>\n",
       "      <td>ironia</td>\n",
       "    </tr>\n",
       "  </tbody>\n",
       "</table>\n",
       "<p>1503 rows × 3 columns</p>\n",
       "</div>"
      ],
      "text/plain": [
       "                                                                                                                                     text  \\\n",
       "0     Aquele momento que o gato preto volta pra não cruzar o seu caminho                                                                    \n",
       "1     Marcelo Oliveira pode estar poupando Matheus Sales para encarar o Santos, de Lucas Lima.                                              \n",
       "2     ECONOMIAALERTANÃO! QUEIRAM ASSISTIR O MAIOR ESCOAMENTO FINANCEIRO MUNDIALQUEREMOS! UM BRASIL PARA TODOS!DiretasJÁ!                    \n",
       "3     São Paulo caindo de pé como um bom perdedor.                                                                                          \n",
       "4     claro que foi....                                                                                                                     \n",
       "...                 ...                                                                                                                     \n",
       "1498  interessante perceber como o catedrático vai dar uma entrevista precisamente ao jornal de quem o   tanto se queixa                    \n",
       "1499  So notícia boa! Uhuuu                                                                                                                 \n",
       "1500  AGORA VAI! Realmente bater em jogador resolve tudo, vasco não cai mais!                                                               \n",
       "1501  Economia.Presidente do Senado admite possibilidade de acelerar reforma trabalhista                                                    \n",
       "1502  Assistindo a Copa do Nordeste e por ironia o Esporte Interativo está transmitindo o jogo cujo nome de um dos times se chama GLOBO.    \n",
       "\n",
       "      prediction pred_gpt4o_mini  \n",
       "0     1.0         ironia          \n",
       "1     1.0         n_ironia        \n",
       "2     0.0         n_ironia        \n",
       "3     1.0         ironia          \n",
       "4     1.0         ironia          \n",
       "...   ...            ...          \n",
       "1498  1.0         ironia          \n",
       "1499  1.0         ironia          \n",
       "1500  1.0         ironia          \n",
       "1501  0.0         n_ironia        \n",
       "1502  1.0         ironia          \n",
       "\n",
       "[1503 rows x 3 columns]"
      ]
     },
     "execution_count": 41,
     "metadata": {},
     "output_type": "execute_result"
    }
   ],
   "source": [
    "mini"
   ]
  },
  {
   "cell_type": "code",
   "execution_count": 43,
   "id": "7bada3ae-1e0f-451d-acd4-738cc8083af9",
   "metadata": {},
   "outputs": [],
   "source": [
    "mini = mini[~mini.prediction.isna()].reset_index(drop=True)"
   ]
  },
  {
   "cell_type": "code",
   "execution_count": 44,
   "id": "1d306ac6-eb72-40ac-b7e3-fbe262aa1560",
   "metadata": {},
   "outputs": [
    {
     "data": {
      "text/plain": [
       "1500"
      ]
     },
     "execution_count": 44,
     "metadata": {},
     "output_type": "execute_result"
    }
   ],
   "source": [
    "len(mini)"
   ]
  },
  {
   "cell_type": "code",
   "execution_count": 46,
   "id": "c4a7bc1b-9605-4493-8195-95fe7d7f81cd",
   "metadata": {},
   "outputs": [],
   "source": [
    "mini = mini[~mini.text.isna()].reset_index(drop=True)"
   ]
  },
  {
   "cell_type": "code",
   "execution_count": 47,
   "id": "4d4bbc7c-6d6c-4c38-ac2a-cf95cc6d4716",
   "metadata": {},
   "outputs": [
    {
     "data": {
      "text/plain": [
       "1499"
      ]
     },
     "execution_count": 47,
     "metadata": {},
     "output_type": "execute_result"
    }
   ],
   "source": [
    "len(mini)"
   ]
  },
  {
   "cell_type": "code",
   "execution_count": 48,
   "id": "77abce0a-a3d0-49a8-8d52-cadc25b5e0a4",
   "metadata": {},
   "outputs": [
    {
     "data": {
      "text/plain": [
       "ironia      1015\n",
       "n_ironia    483 \n",
       "ironía      1   \n",
       "Name: pred_gpt4o_mini, dtype: int64"
      ]
     },
     "execution_count": 48,
     "metadata": {},
     "output_type": "execute_result"
    }
   ],
   "source": [
    "mini.pred_gpt4o_mini.value_counts()"
   ]
  },
  {
   "cell_type": "code",
   "execution_count": 49,
   "id": "de888ee5-60fb-4495-839b-d25c4a22624f",
   "metadata": {},
   "outputs": [
    {
     "name": "stderr",
     "output_type": "stream",
     "text": [
      "/tmp/ipykernel_46597/3501141419.py:1: SettingWithCopyWarning: \n",
      "A value is trying to be set on a copy of a slice from a DataFrame\n",
      "\n",
      "See the caveats in the documentation: https://pandas.pydata.org/pandas-docs/stable/user_guide/indexing.html#returning-a-view-versus-a-copy\n",
      "  mini.pred_gpt4o_mini.loc[mini.pred_gpt4o_mini=='ironía']='ironia'\n"
     ]
    }
   ],
   "source": [
    "mini.pred_gpt4o_mini.loc[mini.pred_gpt4o_mini=='ironía']='ironia'"
   ]
  },
  {
   "cell_type": "code",
   "execution_count": 51,
   "id": "527113b0-f3c2-4658-9471-f8aaf9416b63",
   "metadata": {},
   "outputs": [
    {
     "name": "stderr",
     "output_type": "stream",
     "text": [
      "/tmp/ipykernel_46597/2316081361.py:1: SettingWithCopyWarning: \n",
      "A value is trying to be set on a copy of a slice from a DataFrame\n",
      "\n",
      "See the caveats in the documentation: https://pandas.pydata.org/pandas-docs/stable/user_guide/indexing.html#returning-a-view-versus-a-copy\n",
      "  mini.prediction.loc[mini.prediction==1.0]='ironia'\n"
     ]
    }
   ],
   "source": [
    "mini.prediction.loc[mini.prediction==1.0]='ironia'\n",
    "mini.prediction.loc[mini.prediction==0.0]='n_ironia'"
   ]
  },
  {
   "cell_type": "code",
   "execution_count": 53,
   "id": "aca2109e-2f1b-4c8f-8638-0b827e5eb993",
   "metadata": {},
   "outputs": [
    {
     "name": "stdout",
     "output_type": "stream",
     "text": [
      "GPT4-Turbo\n",
      "              precision    recall  f1-score   support\n",
      "\n",
      "      ironia       0.96      0.88      0.92      1244\n",
      "    n_ironia       0.58      0.80      0.67       255\n",
      "\n",
      "    accuracy                           0.87      1499\n",
      "   macro avg       0.77      0.84      0.79      1499\n",
      "weighted avg       0.89      0.87      0.88      1499\n",
      "\n",
      "GPT4-o\n",
      "              precision    recall  f1-score   support\n",
      "\n",
      "      ironia       0.98      0.75      0.85      1244\n",
      "    n_ironia       0.43      0.91      0.58       255\n",
      "\n",
      "    accuracy                           0.78      1499\n",
      "   macro avg       0.70      0.83      0.72      1499\n",
      "weighted avg       0.88      0.78      0.80      1499\n",
      "\n",
      "GPT40-MINI\n",
      "              precision    recall  f1-score   support\n",
      "\n",
      "      ironia       0.98      0.80      0.88      1244\n",
      "    n_ironia       0.48      0.91      0.63       255\n",
      "\n",
      "    accuracy                           0.82      1499\n",
      "   macro avg       0.73      0.85      0.75      1499\n",
      "weighted avg       0.89      0.82      0.84      1499\n",
      "\n"
     ]
    }
   ],
   "source": [
    "print('GPT4-Turbo')\n",
    "print(classification_report(turbo['prediction'], turbo['pred_gpt4_turbo']))\n",
    "\n",
    "print('GPT4-o')\n",
    "print(classification_report(omni['prediction'], omni['pred_gpt4o']))\n",
    "\n",
    "print('GPT40-MINI')\n",
    "print(classification_report(mini['prediction'], mini['pred_gpt4o_mini']))"
   ]
  },
  {
   "cell_type": "code",
   "execution_count": null,
   "id": "2e2d00f8-6514-4a67-b77d-5fa058b0556d",
   "metadata": {},
   "outputs": [],
   "source": []
  }
 ],
 "metadata": {
  "kernelspec": {
   "display_name": "Python 3.10",
   "language": "python",
   "name": "python3.10"
  },
  "language_info": {
   "codemirror_mode": {
    "name": "ipython",
    "version": 3
   },
   "file_extension": ".py",
   "mimetype": "text/x-python",
   "name": "python",
   "nbconvert_exporter": "python",
   "pygments_lexer": "ipython3",
   "version": "3.10.12"
  }
 },
 "nbformat": 4,
 "nbformat_minor": 5
}
